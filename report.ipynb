{
 "metadata": {
  "language_info": {
   "codemirror_mode": {
    "name": "ipython",
    "version": 3
   },
   "file_extension": ".py",
   "mimetype": "text/x-python",
   "name": "python",
   "nbconvert_exporter": "python",
   "pygments_lexer": "ipython3",
   "version": "3.6.8"
  },
  "orig_nbformat": 2,
  "kernelspec": {
   "name": "python368jvsc74a57bd01fd97ffdf103f0e8c08692b1ae46710b0588731d53687a29b48b3b720d5dcad3",
   "display_name": "Python 3.6.8 64-bit"
  },
  "metadata": {
   "interpreter": {
    "hash": "1fd97ffdf103f0e8c08692b1ae46710b0588731d53687a29b48b3b720d5dcad3"
   }
  }
 },
 "nbformat": 4,
 "nbformat_minor": 2,
 "cells": [
  {
   "source": [
    "<h1>Загрузка данных</h1>"
   ],
   "cell_type": "markdown",
   "metadata": {}
  },
  {
   "cell_type": "code",
   "execution_count": 48,
   "metadata": {},
   "outputs": [
    {
     "output_type": "execute_result",
     "data": {
      "text/plain": [
       "     PassengerId  Survived  Pclass  \\\n",
       "0              1         0       3   \n",
       "1              2         1       1   \n",
       "2              3         1       3   \n",
       "3              4         1       1   \n",
       "4              5         0       3   \n",
       "..           ...       ...     ...   \n",
       "886          887         0       2   \n",
       "887          888         1       1   \n",
       "888          889         0       3   \n",
       "889          890         1       1   \n",
       "890          891         0       3   \n",
       "\n",
       "                                                  Name     Sex   Age  SibSp  \\\n",
       "0                              Braund, Mr. Owen Harris    male  22.0      1   \n",
       "1    Cumings, Mrs. John Bradley (Florence Briggs Th...  female  38.0      1   \n",
       "2                               Heikkinen, Miss. Laina  female  26.0      0   \n",
       "3         Futrelle, Mrs. Jacques Heath (Lily May Peel)  female  35.0      1   \n",
       "4                             Allen, Mr. William Henry    male  35.0      0   \n",
       "..                                                 ...     ...   ...    ...   \n",
       "886                              Montvila, Rev. Juozas    male  27.0      0   \n",
       "887                       Graham, Miss. Margaret Edith  female  19.0      0   \n",
       "888           Johnston, Miss. Catherine Helen \"Carrie\"  female   NaN      1   \n",
       "889                              Behr, Mr. Karl Howell    male  26.0      0   \n",
       "890                                Dooley, Mr. Patrick    male  32.0      0   \n",
       "\n",
       "     Parch            Ticket     Fare Cabin Embarked  \n",
       "0        0         A/5 21171   7.2500   NaN        S  \n",
       "1        0          PC 17599  71.2833   C85        C  \n",
       "2        0  STON/O2. 3101282   7.9250   NaN        S  \n",
       "3        0            113803  53.1000  C123        S  \n",
       "4        0            373450   8.0500   NaN        S  \n",
       "..     ...               ...      ...   ...      ...  \n",
       "886      0            211536  13.0000   NaN        S  \n",
       "887      0            112053  30.0000   B42        S  \n",
       "888      2        W./C. 6607  23.4500   NaN        S  \n",
       "889      0            111369  30.0000  C148        C  \n",
       "890      0            370376   7.7500   NaN        Q  \n",
       "\n",
       "[891 rows x 12 columns]"
      ],
      "text/html": "<div>\n<style scoped>\n    .dataframe tbody tr th:only-of-type {\n        vertical-align: middle;\n    }\n\n    .dataframe tbody tr th {\n        vertical-align: top;\n    }\n\n    .dataframe thead th {\n        text-align: right;\n    }\n</style>\n<table border=\"1\" class=\"dataframe\">\n  <thead>\n    <tr style=\"text-align: right;\">\n      <th></th>\n      <th>PassengerId</th>\n      <th>Survived</th>\n      <th>Pclass</th>\n      <th>Name</th>\n      <th>Sex</th>\n      <th>Age</th>\n      <th>SibSp</th>\n      <th>Parch</th>\n      <th>Ticket</th>\n      <th>Fare</th>\n      <th>Cabin</th>\n      <th>Embarked</th>\n    </tr>\n  </thead>\n  <tbody>\n    <tr>\n      <th>0</th>\n      <td>1</td>\n      <td>0</td>\n      <td>3</td>\n      <td>Braund, Mr. Owen Harris</td>\n      <td>male</td>\n      <td>22.0</td>\n      <td>1</td>\n      <td>0</td>\n      <td>A/5 21171</td>\n      <td>7.2500</td>\n      <td>NaN</td>\n      <td>S</td>\n    </tr>\n    <tr>\n      <th>1</th>\n      <td>2</td>\n      <td>1</td>\n      <td>1</td>\n      <td>Cumings, Mrs. John Bradley (Florence Briggs Th...</td>\n      <td>female</td>\n      <td>38.0</td>\n      <td>1</td>\n      <td>0</td>\n      <td>PC 17599</td>\n      <td>71.2833</td>\n      <td>C85</td>\n      <td>C</td>\n    </tr>\n    <tr>\n      <th>2</th>\n      <td>3</td>\n      <td>1</td>\n      <td>3</td>\n      <td>Heikkinen, Miss. Laina</td>\n      <td>female</td>\n      <td>26.0</td>\n      <td>0</td>\n      <td>0</td>\n      <td>STON/O2. 3101282</td>\n      <td>7.9250</td>\n      <td>NaN</td>\n      <td>S</td>\n    </tr>\n    <tr>\n      <th>3</th>\n      <td>4</td>\n      <td>1</td>\n      <td>1</td>\n      <td>Futrelle, Mrs. Jacques Heath (Lily May Peel)</td>\n      <td>female</td>\n      <td>35.0</td>\n      <td>1</td>\n      <td>0</td>\n      <td>113803</td>\n      <td>53.1000</td>\n      <td>C123</td>\n      <td>S</td>\n    </tr>\n    <tr>\n      <th>4</th>\n      <td>5</td>\n      <td>0</td>\n      <td>3</td>\n      <td>Allen, Mr. William Henry</td>\n      <td>male</td>\n      <td>35.0</td>\n      <td>0</td>\n      <td>0</td>\n      <td>373450</td>\n      <td>8.0500</td>\n      <td>NaN</td>\n      <td>S</td>\n    </tr>\n    <tr>\n      <th>...</th>\n      <td>...</td>\n      <td>...</td>\n      <td>...</td>\n      <td>...</td>\n      <td>...</td>\n      <td>...</td>\n      <td>...</td>\n      <td>...</td>\n      <td>...</td>\n      <td>...</td>\n      <td>...</td>\n      <td>...</td>\n    </tr>\n    <tr>\n      <th>886</th>\n      <td>887</td>\n      <td>0</td>\n      <td>2</td>\n      <td>Montvila, Rev. Juozas</td>\n      <td>male</td>\n      <td>27.0</td>\n      <td>0</td>\n      <td>0</td>\n      <td>211536</td>\n      <td>13.0000</td>\n      <td>NaN</td>\n      <td>S</td>\n    </tr>\n    <tr>\n      <th>887</th>\n      <td>888</td>\n      <td>1</td>\n      <td>1</td>\n      <td>Graham, Miss. Margaret Edith</td>\n      <td>female</td>\n      <td>19.0</td>\n      <td>0</td>\n      <td>0</td>\n      <td>112053</td>\n      <td>30.0000</td>\n      <td>B42</td>\n      <td>S</td>\n    </tr>\n    <tr>\n      <th>888</th>\n      <td>889</td>\n      <td>0</td>\n      <td>3</td>\n      <td>Johnston, Miss. Catherine Helen \"Carrie\"</td>\n      <td>female</td>\n      <td>NaN</td>\n      <td>1</td>\n      <td>2</td>\n      <td>W./C. 6607</td>\n      <td>23.4500</td>\n      <td>NaN</td>\n      <td>S</td>\n    </tr>\n    <tr>\n      <th>889</th>\n      <td>890</td>\n      <td>1</td>\n      <td>1</td>\n      <td>Behr, Mr. Karl Howell</td>\n      <td>male</td>\n      <td>26.0</td>\n      <td>0</td>\n      <td>0</td>\n      <td>111369</td>\n      <td>30.0000</td>\n      <td>C148</td>\n      <td>C</td>\n    </tr>\n    <tr>\n      <th>890</th>\n      <td>891</td>\n      <td>0</td>\n      <td>3</td>\n      <td>Dooley, Mr. Patrick</td>\n      <td>male</td>\n      <td>32.0</td>\n      <td>0</td>\n      <td>0</td>\n      <td>370376</td>\n      <td>7.7500</td>\n      <td>NaN</td>\n      <td>Q</td>\n    </tr>\n  </tbody>\n</table>\n<p>891 rows × 12 columns</p>\n</div>"
     },
     "metadata": {},
     "execution_count": 48
    }
   ],
   "source": [
    "import pandas as pd\n",
    "import numpy as np\n",
    "import sklearn\n",
    "\n",
    "_csv = pd.read_csv(\"./data/train.csv\")\n",
    "\n",
    "_csv"
   ]
  },
  {
   "source": [
    "<h1>Подготовка данных</h1><br>\n",
    "Некоторые колонки удаляем за ненадобностью, такие как:<br>\n",
    "'Fare' - Стоимость билета нас не интересует, поскольку нам уже известен класс каюты<br>\n",
    "'Embarked' - Порт, в котором сел данный человек<br>\n",
    "'Ticket' - Номер билета нас также не интересует<br>\n",
    "'PassengerId' - Уникальный номер пассажира также нас не интересует<br>\n",
    "'Cabin' - Потенциально важный параметр, однако в данной ситуации я его не учитываю<br>"
   ],
   "cell_type": "markdown",
   "metadata": {}
  },
  {
   "cell_type": "code",
   "execution_count": 49,
   "metadata": {},
   "outputs": [],
   "source": [
    "_csv = _csv.drop(labels=[\"Fare\", \"Embarked\", \"Ticket\", \"PassengerId\", \"Cabin\"], axis=1)"
   ]
  },
  {
   "source": [
    "<h2>Обработка нулевых значений</h2><br>\n",
    "Требуется проверить колонки на наличие нулевых\\пропущенных значений, чтобы правильно их обработать."
   ],
   "cell_type": "markdown",
   "metadata": {}
  },
  {
   "cell_type": "code",
   "execution_count": 50,
   "metadata": {},
   "outputs": [
    {
     "output_type": "execute_result",
     "data": {
      "text/plain": [
       "Survived      0\n",
       "Pclass        0\n",
       "Name          0\n",
       "Sex           0\n",
       "Age         177\n",
       "SibSp         0\n",
       "Parch         0\n",
       "dtype: int64"
      ]
     },
     "metadata": {},
     "execution_count": 50
    }
   ],
   "source": [
    "_csv.isna().sum()"
   ]
  },
  {
   "source": [
    "Поскольку теперь мы знаем, что в колонке 'Sex' нет пропущенных значений, мы можем обработать её значения.<br>\n",
    "Алгоритмы машинного обучения плохо работают со строками, поэтому все значения стоит преобразовывать в числа.<br>\n",
    "В данном случае, женский пол ('female') мы обозначим '0', а мужской пол ('male') обозначим '1'."
   ],
   "cell_type": "markdown",
   "metadata": {}
  },
  {
   "cell_type": "code",
   "execution_count": 51,
   "metadata": {},
   "outputs": [
    {
     "output_type": "execute_result",
     "data": {
      "text/plain": [
       "     Survived  Pclass                                               Name  Sex  \\\n",
       "0           0       3                            Braund, Mr. Owen Harris    1   \n",
       "1           1       1  Cumings, Mrs. John Bradley (Florence Briggs Th...    0   \n",
       "2           1       3                             Heikkinen, Miss. Laina    0   \n",
       "3           1       1       Futrelle, Mrs. Jacques Heath (Lily May Peel)    0   \n",
       "4           0       3                           Allen, Mr. William Henry    1   \n",
       "..        ...     ...                                                ...  ...   \n",
       "886         0       2                              Montvila, Rev. Juozas    1   \n",
       "887         1       1                       Graham, Miss. Margaret Edith    0   \n",
       "888         0       3           Johnston, Miss. Catherine Helen \"Carrie\"    0   \n",
       "889         1       1                              Behr, Mr. Karl Howell    1   \n",
       "890         0       3                                Dooley, Mr. Patrick    1   \n",
       "\n",
       "      Age  SibSp  Parch  \n",
       "0    22.0      1      0  \n",
       "1    38.0      1      0  \n",
       "2    26.0      0      0  \n",
       "3    35.0      1      0  \n",
       "4    35.0      0      0  \n",
       "..    ...    ...    ...  \n",
       "886  27.0      0      0  \n",
       "887  19.0      0      0  \n",
       "888   NaN      1      2  \n",
       "889  26.0      0      0  \n",
       "890  32.0      0      0  \n",
       "\n",
       "[891 rows x 7 columns]"
      ],
      "text/html": "<div>\n<style scoped>\n    .dataframe tbody tr th:only-of-type {\n        vertical-align: middle;\n    }\n\n    .dataframe tbody tr th {\n        vertical-align: top;\n    }\n\n    .dataframe thead th {\n        text-align: right;\n    }\n</style>\n<table border=\"1\" class=\"dataframe\">\n  <thead>\n    <tr style=\"text-align: right;\">\n      <th></th>\n      <th>Survived</th>\n      <th>Pclass</th>\n      <th>Name</th>\n      <th>Sex</th>\n      <th>Age</th>\n      <th>SibSp</th>\n      <th>Parch</th>\n    </tr>\n  </thead>\n  <tbody>\n    <tr>\n      <th>0</th>\n      <td>0</td>\n      <td>3</td>\n      <td>Braund, Mr. Owen Harris</td>\n      <td>1</td>\n      <td>22.0</td>\n      <td>1</td>\n      <td>0</td>\n    </tr>\n    <tr>\n      <th>1</th>\n      <td>1</td>\n      <td>1</td>\n      <td>Cumings, Mrs. John Bradley (Florence Briggs Th...</td>\n      <td>0</td>\n      <td>38.0</td>\n      <td>1</td>\n      <td>0</td>\n    </tr>\n    <tr>\n      <th>2</th>\n      <td>1</td>\n      <td>3</td>\n      <td>Heikkinen, Miss. Laina</td>\n      <td>0</td>\n      <td>26.0</td>\n      <td>0</td>\n      <td>0</td>\n    </tr>\n    <tr>\n      <th>3</th>\n      <td>1</td>\n      <td>1</td>\n      <td>Futrelle, Mrs. Jacques Heath (Lily May Peel)</td>\n      <td>0</td>\n      <td>35.0</td>\n      <td>1</td>\n      <td>0</td>\n    </tr>\n    <tr>\n      <th>4</th>\n      <td>0</td>\n      <td>3</td>\n      <td>Allen, Mr. William Henry</td>\n      <td>1</td>\n      <td>35.0</td>\n      <td>0</td>\n      <td>0</td>\n    </tr>\n    <tr>\n      <th>...</th>\n      <td>...</td>\n      <td>...</td>\n      <td>...</td>\n      <td>...</td>\n      <td>...</td>\n      <td>...</td>\n      <td>...</td>\n    </tr>\n    <tr>\n      <th>886</th>\n      <td>0</td>\n      <td>2</td>\n      <td>Montvila, Rev. Juozas</td>\n      <td>1</td>\n      <td>27.0</td>\n      <td>0</td>\n      <td>0</td>\n    </tr>\n    <tr>\n      <th>887</th>\n      <td>1</td>\n      <td>1</td>\n      <td>Graham, Miss. Margaret Edith</td>\n      <td>0</td>\n      <td>19.0</td>\n      <td>0</td>\n      <td>0</td>\n    </tr>\n    <tr>\n      <th>888</th>\n      <td>0</td>\n      <td>3</td>\n      <td>Johnston, Miss. Catherine Helen \"Carrie\"</td>\n      <td>0</td>\n      <td>NaN</td>\n      <td>1</td>\n      <td>2</td>\n    </tr>\n    <tr>\n      <th>889</th>\n      <td>1</td>\n      <td>1</td>\n      <td>Behr, Mr. Karl Howell</td>\n      <td>1</td>\n      <td>26.0</td>\n      <td>0</td>\n      <td>0</td>\n    </tr>\n    <tr>\n      <th>890</th>\n      <td>0</td>\n      <td>3</td>\n      <td>Dooley, Mr. Patrick</td>\n      <td>1</td>\n      <td>32.0</td>\n      <td>0</td>\n      <td>0</td>\n    </tr>\n  </tbody>\n</table>\n<p>891 rows × 7 columns</p>\n</div>"
     },
     "metadata": {},
     "execution_count": 51
    }
   ],
   "source": [
    "_csv[\"Sex\"] = _csv[\"Sex\"].map({\"female\": 0, \"male\": 1})\n",
    "_csv"
   ]
  },
  {
   "source": [
    "Значения возраста 'Age' имеют пропуски, а также слишком разрозненны. Чтобы упростить классификацию, стоит объединить людей по возрастным группам, но для этого нужно узнать ограничения, чтобы группы были грамотно разделены."
   ],
   "cell_type": "markdown",
   "metadata": {}
  },
  {
   "cell_type": "code",
   "execution_count": 52,
   "metadata": {},
   "outputs": [
    {
     "output_type": "execute_result",
     "data": {
      "text/plain": [
       "0.42"
      ]
     },
     "metadata": {},
     "execution_count": 52
    }
   ],
   "source": [
    "_csv[\"Age\"].min()"
   ]
  },
  {
   "cell_type": "code",
   "execution_count": 53,
   "metadata": {},
   "outputs": [
    {
     "output_type": "execute_result",
     "data": {
      "text/plain": [
       "80.0"
      ]
     },
     "metadata": {},
     "execution_count": 53
    }
   ],
   "source": [
    "_csv[\"Age\"].max()"
   ]
  },
  {
   "source": [
    "Итоговые возрастные группы:<br>\n",
    "1. 0-19<br>\n",
    "2. 20-39<br>\n",
    "3. 40-59<br>\n",
    "4. 60-80<br>"
   ],
   "cell_type": "markdown",
   "metadata": {}
  },
  {
   "source": [
    "Обработка нулевых значений будет осуществляться по следующему алгоритму:<br>\n",
    "Если в имени женщины содержится Mrs. или Mme. (французский эквивалент Mrs.), то это означает, что она замужем, поэтому мы выдадим ей медианный возраст замужних девушек<br>\n",
    "Если в имени девушки есть Miss. или Mlle. (французский эквивалент Miss.), то это значит, что она не замужем, поэтому мы выдадим ей медианный возраст незамужних девушек<br>\n",
    "Если в имени девушки есть Ms., то мы выдадим ей медианный возраст всех девушек<br>\n",
    "\n",
    "Если в имени мужчины есть Mr., то мы выдадим ему медианный возраст этой группы.<br>\n",
    "Если в имени мужчины есть Master., то мы выдадим ему медианный возраст этой категории. Я выделил их отдельно, поскольку это звание есть чаще всего у детей<br>\n",
    "Если в имени мужчины есть Don., Rev. Dr., то мы выдадим ему медианный возраст этой группы.<br>"
   ],
   "cell_type": "markdown",
   "metadata": {}
  },
  {
   "cell_type": "code",
   "execution_count": 54,
   "metadata": {},
   "outputs": [
    {
     "output_type": "execute_result",
     "data": {
      "text/plain": [
       "                                        Name  Sex    Age\n",
       "7             Palsson, Master. Gosta Leonard    1   2.00\n",
       "16                      Rice, Master. Eugene    1   2.00\n",
       "30                  Uruchurtu, Don. Manuel E    1  40.00\n",
       "50                Panula, Master. Juha Niilo    1   7.00\n",
       "59        Goodwin, Master. William Frederick    1  11.00\n",
       "..                                       ...  ...    ...\n",
       "831          Richards, Master. George Sibley    1   0.83\n",
       "848                        Harper, Rev. John    1  28.00\n",
       "850  Andersson, Master. Sigvard Harald Elias    1   4.00\n",
       "869          Johnson, Master. Harold Theodor    1   4.00\n",
       "886                    Montvila, Rev. Juozas    1  27.00\n",
       "\n",
       "[63 rows x 3 columns]"
      ],
      "text/html": "<div>\n<style scoped>\n    .dataframe tbody tr th:only-of-type {\n        vertical-align: middle;\n    }\n\n    .dataframe tbody tr th {\n        vertical-align: top;\n    }\n\n    .dataframe thead th {\n        text-align: right;\n    }\n</style>\n<table border=\"1\" class=\"dataframe\">\n  <thead>\n    <tr style=\"text-align: right;\">\n      <th></th>\n      <th>Name</th>\n      <th>Sex</th>\n      <th>Age</th>\n    </tr>\n  </thead>\n  <tbody>\n    <tr>\n      <th>7</th>\n      <td>Palsson, Master. Gosta Leonard</td>\n      <td>1</td>\n      <td>2.00</td>\n    </tr>\n    <tr>\n      <th>16</th>\n      <td>Rice, Master. Eugene</td>\n      <td>1</td>\n      <td>2.00</td>\n    </tr>\n    <tr>\n      <th>30</th>\n      <td>Uruchurtu, Don. Manuel E</td>\n      <td>1</td>\n      <td>40.00</td>\n    </tr>\n    <tr>\n      <th>50</th>\n      <td>Panula, Master. Juha Niilo</td>\n      <td>1</td>\n      <td>7.00</td>\n    </tr>\n    <tr>\n      <th>59</th>\n      <td>Goodwin, Master. William Frederick</td>\n      <td>1</td>\n      <td>11.00</td>\n    </tr>\n    <tr>\n      <th>...</th>\n      <td>...</td>\n      <td>...</td>\n      <td>...</td>\n    </tr>\n    <tr>\n      <th>831</th>\n      <td>Richards, Master. George Sibley</td>\n      <td>1</td>\n      <td>0.83</td>\n    </tr>\n    <tr>\n      <th>848</th>\n      <td>Harper, Rev. John</td>\n      <td>1</td>\n      <td>28.00</td>\n    </tr>\n    <tr>\n      <th>850</th>\n      <td>Andersson, Master. Sigvard Harald Elias</td>\n      <td>1</td>\n      <td>4.00</td>\n    </tr>\n    <tr>\n      <th>869</th>\n      <td>Johnson, Master. Harold Theodor</td>\n      <td>1</td>\n      <td>4.00</td>\n    </tr>\n    <tr>\n      <th>886</th>\n      <td>Montvila, Rev. Juozas</td>\n      <td>1</td>\n      <td>27.00</td>\n    </tr>\n  </tbody>\n</table>\n<p>63 rows × 3 columns</p>\n</div>"
     },
     "metadata": {},
     "execution_count": 54
    }
   ],
   "source": [
    "g = _csv[~(_csv[\"Name\"].str.contains(\"Mr.|Miss.|Mrs.|Ms.\"))]\r\n",
    "#pd.set_option('display.max_rows', _csv.shape[0]+1)\r\n",
    "g[[\"Name\", \"Sex\", \"Age\"]]"
   ]
  },
  {
   "cell_type": "code",
   "execution_count": 55,
   "metadata": {},
   "outputs": [
    {
     "output_type": "stream",
     "name": "stdout",
     "text": [
      "Медианные значения:\n'Mrs.'|'Mme.' - 35.54\n'Miss.'|'Mlle.' - 21.8\n'Ms.' - 28.0\n'Mr.' - 33.12\n'Master.' - 4.57\n'Don.'|'Dr.'|'Rev.' - 41.41\n"
     ]
    }
   ],
   "source": [
    "mrs_med = _csv[_csv[\"Name\"].str.contains(\"Mrs.|Mme.\")][\"Age\"].mean()\n",
    "miss_med = _csv[_csv[\"Name\"].str.contains(\"Miss.|Mlle.\")][\"Age\"].mean()\n",
    "ms_med = _csv[_csv[\"Name\"].str.contains(\"Ms.\")][\"Age\"].mean()\n",
    "\n",
    "mr_med = _csv[_csv[\"Name\"].str.contains(\"Mr.\")][\"Age\"].mean()\n",
    "master_med = _csv[_csv[\"Name\"].str.contains(\"Master.\")][\"Age\"].mean()\n",
    "don_med = _csv[_csv[\"Name\"].str.contains(\"Don.|Dr.|Rev.\")][\"Age\"].mean()\n",
    "\n",
    "# rounding\n",
    "mrs_med = round(mrs_med, 2)\n",
    "miss_med = round(miss_med, 2)\n",
    "ms_med = round(ms_med, 2)\n",
    "mr_med = round(mr_med, 2)\n",
    "master_med = round(master_med, 2)\n",
    "don_med = round(don_med, 2)\n",
    "\n",
    "print(f\"Медианные значения:\\n'Mrs.'|'Mme.' - {mrs_med}\\n'Miss.'|'Mlle.' - {miss_med}\\n'Ms.' - {ms_med}\\n'Mr.' - {mr_med}\\n'Master.' - {master_med}\\n'Don.'|'Dr.'|'Rev.' - {don_med}\")"
   ]
  },
  {
   "source": [
    "Обработка нулевых значений возраста"
   ],
   "cell_type": "markdown",
   "metadata": {}
  },
  {
   "cell_type": "code",
   "execution_count": 56,
   "metadata": {},
   "outputs": [
    {
     "output_type": "execute_result",
     "data": {
      "text/plain": [
       "Survived    0\n",
       "Pclass      0\n",
       "Name        0\n",
       "Sex         0\n",
       "Age         0\n",
       "SibSp       0\n",
       "Parch       0\n",
       "dtype: int64"
      ]
     },
     "metadata": {},
     "execution_count": 56
    }
   ],
   "source": [
    "# Функция заполнения возрастных пропусков\n",
    "def prep_ages(csv_file):\n",
    "    csv_file.loc[csv_file[\"Name\"].str.contains(\"Mrs.|Mme.\"), \"Age\"] = csv_file[csv_file[\"Name\"].str.contains(\"Mrs.|Mme.\")][\"Age\"].fillna(mrs_med)\n",
    "    csv_file.loc[csv_file[\"Name\"].str.contains(\"Miss.|Mlle.\"), \"Age\"] = csv_file[csv_file[\"Name\"].str.contains(\"Miss.|Mlle.\")][\"Age\"].fillna(miss_med)\n",
    "    csv_file.loc[csv_file[\"Name\"].str.contains(\"Ms.\"), \"Age\"] = csv_file[csv_file[\"Name\"].str.contains(\"Ms.\")][\"Age\"].fillna(ms_med)\n",
    "\n",
    "    csv_file.loc[csv_file[\"Name\"].str.contains(\"Mr.\"), \"Age\"] = csv_file[csv_file[\"Name\"].str.contains(\"Mr.\")][\"Age\"].fillna(mr_med)\n",
    "    csv_file.loc[csv_file[\"Name\"].str.contains(\"Master.\"), \"Age\"] = csv_file[csv_file[\"Name\"].str.contains(\"Master.\")][\"Age\"].fillna(master_med)\n",
    "    csv_file.loc[csv_file[\"Name\"].str.contains(\"Don.|Dr.|Rev.\"), \"Age\"] = csv_file[csv_file[\"Name\"].str.contains(\"Don.|Dr.|Rev.\")][\"Age\"].fillna(don_med)\n",
    "    \n",
    "    return csv_file\n",
    "\n",
    "_csv = prep_ages(_csv)\n",
    "_csv.isna().sum()"
   ]
  },
  {
   "cell_type": "code",
   "execution_count": 57,
   "metadata": {},
   "outputs": [
    {
     "output_type": "execute_result",
     "data": {
      "text/plain": [
       "     Survived  Pclass                                               Name  Sex  \\\n",
       "0           0       3                            Braund, Mr. Owen Harris    1   \n",
       "1           1       1  Cumings, Mrs. John Bradley (Florence Briggs Th...    0   \n",
       "2           1       3                             Heikkinen, Miss. Laina    0   \n",
       "3           1       1       Futrelle, Mrs. Jacques Heath (Lily May Peel)    0   \n",
       "4           0       3                           Allen, Mr. William Henry    1   \n",
       "..        ...     ...                                                ...  ...   \n",
       "886         0       2                              Montvila, Rev. Juozas    1   \n",
       "887         1       1                       Graham, Miss. Margaret Edith    0   \n",
       "888         0       3           Johnston, Miss. Catherine Helen \"Carrie\"    0   \n",
       "889         1       1                              Behr, Mr. Karl Howell    1   \n",
       "890         0       3                                Dooley, Mr. Patrick    1   \n",
       "\n",
       "     Age  SibSp  Parch  \n",
       "0      2      1      0  \n",
       "1      2      1      0  \n",
       "2      2      0      0  \n",
       "3      2      1      0  \n",
       "4      2      0      0  \n",
       "..   ...    ...    ...  \n",
       "886    2      0      0  \n",
       "887    1      0      0  \n",
       "888    2      1      2  \n",
       "889    2      0      0  \n",
       "890    2      0      0  \n",
       "\n",
       "[891 rows x 7 columns]"
      ],
      "text/html": "<div>\n<style scoped>\n    .dataframe tbody tr th:only-of-type {\n        vertical-align: middle;\n    }\n\n    .dataframe tbody tr th {\n        vertical-align: top;\n    }\n\n    .dataframe thead th {\n        text-align: right;\n    }\n</style>\n<table border=\"1\" class=\"dataframe\">\n  <thead>\n    <tr style=\"text-align: right;\">\n      <th></th>\n      <th>Survived</th>\n      <th>Pclass</th>\n      <th>Name</th>\n      <th>Sex</th>\n      <th>Age</th>\n      <th>SibSp</th>\n      <th>Parch</th>\n    </tr>\n  </thead>\n  <tbody>\n    <tr>\n      <th>0</th>\n      <td>0</td>\n      <td>3</td>\n      <td>Braund, Mr. Owen Harris</td>\n      <td>1</td>\n      <td>2</td>\n      <td>1</td>\n      <td>0</td>\n    </tr>\n    <tr>\n      <th>1</th>\n      <td>1</td>\n      <td>1</td>\n      <td>Cumings, Mrs. John Bradley (Florence Briggs Th...</td>\n      <td>0</td>\n      <td>2</td>\n      <td>1</td>\n      <td>0</td>\n    </tr>\n    <tr>\n      <th>2</th>\n      <td>1</td>\n      <td>3</td>\n      <td>Heikkinen, Miss. Laina</td>\n      <td>0</td>\n      <td>2</td>\n      <td>0</td>\n      <td>0</td>\n    </tr>\n    <tr>\n      <th>3</th>\n      <td>1</td>\n      <td>1</td>\n      <td>Futrelle, Mrs. Jacques Heath (Lily May Peel)</td>\n      <td>0</td>\n      <td>2</td>\n      <td>1</td>\n      <td>0</td>\n    </tr>\n    <tr>\n      <th>4</th>\n      <td>0</td>\n      <td>3</td>\n      <td>Allen, Mr. William Henry</td>\n      <td>1</td>\n      <td>2</td>\n      <td>0</td>\n      <td>0</td>\n    </tr>\n    <tr>\n      <th>...</th>\n      <td>...</td>\n      <td>...</td>\n      <td>...</td>\n      <td>...</td>\n      <td>...</td>\n      <td>...</td>\n      <td>...</td>\n    </tr>\n    <tr>\n      <th>886</th>\n      <td>0</td>\n      <td>2</td>\n      <td>Montvila, Rev. Juozas</td>\n      <td>1</td>\n      <td>2</td>\n      <td>0</td>\n      <td>0</td>\n    </tr>\n    <tr>\n      <th>887</th>\n      <td>1</td>\n      <td>1</td>\n      <td>Graham, Miss. Margaret Edith</td>\n      <td>0</td>\n      <td>1</td>\n      <td>0</td>\n      <td>0</td>\n    </tr>\n    <tr>\n      <th>888</th>\n      <td>0</td>\n      <td>3</td>\n      <td>Johnston, Miss. Catherine Helen \"Carrie\"</td>\n      <td>0</td>\n      <td>2</td>\n      <td>1</td>\n      <td>2</td>\n    </tr>\n    <tr>\n      <th>889</th>\n      <td>1</td>\n      <td>1</td>\n      <td>Behr, Mr. Karl Howell</td>\n      <td>1</td>\n      <td>2</td>\n      <td>0</td>\n      <td>0</td>\n    </tr>\n    <tr>\n      <th>890</th>\n      <td>0</td>\n      <td>3</td>\n      <td>Dooley, Mr. Patrick</td>\n      <td>1</td>\n      <td>2</td>\n      <td>0</td>\n      <td>0</td>\n    </tr>\n  </tbody>\n</table>\n<p>891 rows × 7 columns</p>\n</div>"
     },
     "metadata": {},
     "execution_count": 57
    }
   ],
   "source": [
    "# Функция группировки возраста\n",
    "def group_ages(age):\n",
    "    if age <= 19:\n",
    "        age = 1\n",
    "    elif age >= 20 and age <=39:\n",
    "        age = 2\n",
    "    elif age >= 40 and age <= 59:\n",
    "        age = 3\n",
    "    elif age >= 60 and age <= 80:\n",
    "        age = 4\n",
    "    return age\n",
    "\n",
    "_csv[\"Age\"] = _csv[\"Age\"].apply(group_ages)\n",
    "_csv"
   ]
  },
  {
   "cell_type": "code",
   "execution_count": 58,
   "metadata": {},
   "outputs": [],
   "source": [
    "train_labels = _csv[\"Survived\"]\n",
    "_csv = _csv.drop(labels=[\"Name\", \"Survived\"], axis=1)"
   ]
  },
  {
   "cell_type": "code",
   "execution_count": 59,
   "metadata": {},
   "outputs": [],
   "source": [
    "# Функция для общей подготовки данных\n",
    "def prep_input(data):\n",
    "    ids = data[\"PassengerId\"]\n",
    "    data = data.drop(labels=[\"Fare\", \"Embarked\", \"Ticket\", \"PassengerId\", \"Cabin\"], axis=1)\n",
    "    data[\"Sex\"] = data[\"Sex\"].map({\"female\": 0, \"male\": 1})\n",
    "    data = prep_ages(data)\n",
    "    data[\"Age\"] = data[\"Age\"].apply(group_ages)\n",
    "    data = data.drop(labels=[\"Name\"], axis=1)\n",
    "    return data, ids"
   ]
  },
  {
   "source": [
    "<h1>Сравнение алгоритмов</h1>"
   ],
   "cell_type": "markdown",
   "metadata": {}
  },
  {
   "source": [
    "Поскольку данные для этой работы были взяты с сайта Kaggle, у меня нет доступа к итоговым значениям тестовых данных для того, чтобы оценить точность модели самостоятельно, поэтому оценка точности будет произведена с помощью submission полученных результатов на сайт."
   ],
   "cell_type": "markdown",
   "metadata": {}
  },
  {
   "cell_type": "code",
   "execution_count": 60,
   "metadata": {},
   "outputs": [
    {
     "output_type": "execute_result",
     "data": {
      "text/plain": [
       "     Pclass  Sex  Age  SibSp  Parch\n",
       "0         3    1    2      0      0\n",
       "1         3    0    3      1      0\n",
       "2         2    1    4      0      0\n",
       "3         3    1    2      0      0\n",
       "4         3    0    2      1      1\n",
       "..      ...  ...  ...    ...    ...\n",
       "413       3    1    2      0      0\n",
       "414       1    0    2      0      0\n",
       "415       3    1    2      0      0\n",
       "416       3    1    2      0      0\n",
       "417       3    1    1      1      1\n",
       "\n",
       "[418 rows x 5 columns]"
      ],
      "text/html": "<div>\n<style scoped>\n    .dataframe tbody tr th:only-of-type {\n        vertical-align: middle;\n    }\n\n    .dataframe tbody tr th {\n        vertical-align: top;\n    }\n\n    .dataframe thead th {\n        text-align: right;\n    }\n</style>\n<table border=\"1\" class=\"dataframe\">\n  <thead>\n    <tr style=\"text-align: right;\">\n      <th></th>\n      <th>Pclass</th>\n      <th>Sex</th>\n      <th>Age</th>\n      <th>SibSp</th>\n      <th>Parch</th>\n    </tr>\n  </thead>\n  <tbody>\n    <tr>\n      <th>0</th>\n      <td>3</td>\n      <td>1</td>\n      <td>2</td>\n      <td>0</td>\n      <td>0</td>\n    </tr>\n    <tr>\n      <th>1</th>\n      <td>3</td>\n      <td>0</td>\n      <td>3</td>\n      <td>1</td>\n      <td>0</td>\n    </tr>\n    <tr>\n      <th>2</th>\n      <td>2</td>\n      <td>1</td>\n      <td>4</td>\n      <td>0</td>\n      <td>0</td>\n    </tr>\n    <tr>\n      <th>3</th>\n      <td>3</td>\n      <td>1</td>\n      <td>2</td>\n      <td>0</td>\n      <td>0</td>\n    </tr>\n    <tr>\n      <th>4</th>\n      <td>3</td>\n      <td>0</td>\n      <td>2</td>\n      <td>1</td>\n      <td>1</td>\n    </tr>\n    <tr>\n      <th>...</th>\n      <td>...</td>\n      <td>...</td>\n      <td>...</td>\n      <td>...</td>\n      <td>...</td>\n    </tr>\n    <tr>\n      <th>413</th>\n      <td>3</td>\n      <td>1</td>\n      <td>2</td>\n      <td>0</td>\n      <td>0</td>\n    </tr>\n    <tr>\n      <th>414</th>\n      <td>1</td>\n      <td>0</td>\n      <td>2</td>\n      <td>0</td>\n      <td>0</td>\n    </tr>\n    <tr>\n      <th>415</th>\n      <td>3</td>\n      <td>1</td>\n      <td>2</td>\n      <td>0</td>\n      <td>0</td>\n    </tr>\n    <tr>\n      <th>416</th>\n      <td>3</td>\n      <td>1</td>\n      <td>2</td>\n      <td>0</td>\n      <td>0</td>\n    </tr>\n    <tr>\n      <th>417</th>\n      <td>3</td>\n      <td>1</td>\n      <td>1</td>\n      <td>1</td>\n      <td>1</td>\n    </tr>\n  </tbody>\n</table>\n<p>418 rows × 5 columns</p>\n</div>"
     },
     "metadata": {},
     "execution_count": 60
    }
   ],
   "source": [
    "_test_csv = pd.read_csv(\"./data/test.csv\")\n",
    "_test_csv, _test_ids = prep_input(_test_csv)\n",
    "_test_csv"
   ]
  },
  {
   "cell_type": "code",
   "execution_count": 61,
   "metadata": {},
   "outputs": [],
   "source": [
    "# Функция для сохранения итоговых данных в файл\n",
    "def output_to_file(filename, ids, pred):\n",
    "    df = pd.DataFrame({\"PassengerId\": ids, \"Survived\": pred})\n",
    "    df.to_csv(filename, index=False)\n"
   ]
  },
  {
   "source": [
    "<h2>Support Vector Machines</h2><br>\n",
    "<h3>Support Vector Classification (SVC)</h3>"
   ],
   "cell_type": "markdown",
   "metadata": {}
  },
  {
   "cell_type": "code",
   "execution_count": 62,
   "metadata": {},
   "outputs": [],
   "source": [
    "from sklearn import svm\n",
    "clf = svm.SVC()\n",
    "clf.fit(_csv, train_labels)\n",
    "pred = clf.predict(_test_csv)\n",
    "output_to_file(\"output/svm_svc_output.csv\", _test_ids.values, pred)"
   ]
  },
  {
   "source": [
    "<img src=\"img/svm_svc_score.png\" title=\"Оценка точности с сайта Kaggle\">"
   ],
   "cell_type": "markdown",
   "metadata": {}
  },
  {
   "source": [
    "<h3>Support Vector Regression (SVR)</h3>"
   ],
   "cell_type": "markdown",
   "metadata": {}
  },
  {
   "cell_type": "code",
   "execution_count": 63,
   "metadata": {},
   "outputs": [],
   "source": [
    "clf = svm.SVR()\n",
    "clf.fit(_csv, train_labels)\n",
    "pred = clf.predict(_test_csv)\n",
    "output_to_file(\"output/svm_svr_output.csv\", _test_ids.values, np.rint(pred).astype(int))"
   ]
  },
  {
   "source": [
    "<img src=\"img/svm_svr_score.png\" title=\"Оценка точности с сайта Kaggle\">"
   ],
   "cell_type": "markdown",
   "metadata": {}
  },
  {
   "source": [
    "<h2>Stochastic Gradient Descent (SGD)</h2>"
   ],
   "cell_type": "markdown",
   "metadata": {}
  },
  {
   "cell_type": "code",
   "execution_count": 64,
   "metadata": {},
   "outputs": [],
   "source": [
    "from sklearn.linear_model import SGDClassifier\n",
    "clf = SGDClassifier(loss=\"hinge\", penalty=\"l2\", max_iter=100)\n",
    "clf.fit(_csv, train_labels)\n",
    "pred = clf.predict(_test_csv)\n",
    "output_to_file(\"output/linear_sgdclassifier_output.csv\", _test_ids.values, pred)"
   ]
  },
  {
   "source": [
    "<img src=\"img/linear_sgdclassifier_score.png\" title=\"Оценка точности с сайта Kaggle\">"
   ],
   "cell_type": "markdown",
   "metadata": {}
  },
  {
   "source": [
    "<h2>Nearest Centroid Classifier</h2>"
   ],
   "cell_type": "markdown",
   "metadata": {}
  },
  {
   "cell_type": "code",
   "execution_count": 65,
   "metadata": {},
   "outputs": [],
   "source": [
    "from sklearn.neighbors import NearestCentroid\n",
    "clf = NearestCentroid()\n",
    "clf.fit(_csv, train_labels)\n",
    "pred = clf.predict(_test_csv)\n",
    "output_to_file(\"output/nearestcentroid_output.csv\", _test_ids.values, pred)"
   ]
  },
  {
   "source": [
    "<img src=\"img/nearestcentroid_score.png\" title=\"Оценка точности с сайта Kaggle\">"
   ],
   "cell_type": "markdown",
   "metadata": {}
  },
  {
   "source": [
    "<h2>Descision Tree</h2>"
   ],
   "cell_type": "markdown",
   "metadata": {}
  },
  {
   "cell_type": "code",
   "execution_count": 66,
   "metadata": {},
   "outputs": [],
   "source": [
    "from sklearn import tree\n",
    "clf = tree.DecisionTreeClassifier()\n",
    "clf.fit(_csv, train_labels)\n",
    "pred = clf.predict(_test_csv)\n",
    "output_to_file(\"output/decisiontree_output.csv\", _test_ids.values, pred)"
   ]
  },
  {
   "source": [
    "<img src=\"img/decisiontree_score.png\" title=\"Оценка точности с сайта Kaggle\">"
   ],
   "cell_type": "markdown",
   "metadata": {}
  },
  {
   "source": [
    "<h2>Вывод</h2><br>\n",
    "На основании проведённого сравнения, в качестве итогового классификатора был выбран классификатор SVR."
   ],
   "cell_type": "markdown",
   "metadata": {}
  },
  {
   "source": [
    "<h1>Сохранение модели</h1>"
   ],
   "cell_type": "markdown",
   "metadata": {}
  },
  {
   "cell_type": "code",
   "execution_count": 67,
   "metadata": {},
   "outputs": [],
   "source": [
    "import pickle5 as pickle\n",
    "with open(\"models/svr_model.pckl\", 'wb') as f:\n",
    "    clf = svm.SVR()\n",
    "    clf.fit(_csv, train_labels)\n",
    "    pickle.dump(clf, f)"
   ]
  }
 ]
}